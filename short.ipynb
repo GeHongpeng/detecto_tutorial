{
  "nbformat": 4,
  "nbformat_minor": 0,
  "metadata": {
    "colab": {
      "name": "short.ipynb",
      "provenance": []
    },
    "kernelspec": {
      "name": "python3",
      "display_name": "Python 3"
    },
    "accelerator": "GPU"
  },
  "cells": [
    {
      "cell_type": "markdown",
      "metadata": {
        "id": "ZsRD4tlLtzaF",
        "colab_type": "text"
      },
      "source": [
        "Install Detecto"
      ]
    },
    {
      "cell_type": "code",
      "metadata": {
        "id": "w9L_9znAUzym",
        "colab_type": "code",
        "colab": {}
      },
      "source": [
        "import os\n",
        "from google.colab import drive\n",
        "drive.mount('/content/drive')\n",
        "os.chdir('/content/drive/My Drive/object_detection')\n",
        "!pip install detecto"
      ],
      "execution_count": 0,
      "outputs": []
    },
    {
      "cell_type": "markdown",
      "metadata": {
        "id": "lTgoEj11uAc3",
        "colab_type": "text"
      },
      "source": [
        "Start the train your model"
      ]
    },
    {
      "cell_type": "code",
      "metadata": {
        "id": "6LfC3qnltVxO",
        "colab_type": "code",
        "colab": {}
      },
      "source": [
        "#train your model\n",
        "from detecto import core, utils, visualize\n",
        "#mention you dataset path\n",
        "dataset = core.Dataset('images/')\n",
        "#mention you object label here\n",
        "model = core.Model(['cat'])\n",
        "model.fit(dataset)"
      ],
      "execution_count": 0,
      "outputs": []
    },
    {
      "cell_type": "markdown",
      "metadata": {
        "id": "AgxMIuo4uI3a",
        "colab_type": "text"
      },
      "source": [
        "Test your trained model"
      ]
    },
    {
      "cell_type": "code",
      "metadata": {
        "id": "1vMGKpSFtV_q",
        "colab_type": "code",
        "colab": {}
      },
      "source": [
        "# Specify the path to your image\n",
        "from detecto import core, utils, visualize\n",
        "image = utils.read_image('animals/cat48.jpg')\n",
        "predictions = model.predict(image)\n",
        "# predictions format: (labels, boxes, scores)\n",
        "labels, boxes, scores = predictions\n",
        "# ['alien', 'bat', 'bat']\n",
        "print(labels) \n",
        "print(boxes)\n",
        "# tensor([0.9952, 0.9837, 0.5153])\n",
        "print(scores)\n",
        "visualize.show_labeled_image(image, boxes, labels)"
      ],
      "execution_count": 0,
      "outputs": []
    },
    {
      "cell_type": "markdown",
      "metadata": {
        "id": "1A2z_X-GuXKb",
        "colab_type": "text"
      },
      "source": [
        "Save your trained model"
      ]
    },
    {
      "cell_type": "code",
      "metadata": {
        "id": "zusZcJXussBA",
        "colab_type": "code",
        "colab": {}
      },
      "source": [
        "model.save('cat_model_weights.pth')\n",
        "#use this comment to save the custom model file"
      ],
      "execution_count": 0,
      "outputs": []
    }
  ]
}